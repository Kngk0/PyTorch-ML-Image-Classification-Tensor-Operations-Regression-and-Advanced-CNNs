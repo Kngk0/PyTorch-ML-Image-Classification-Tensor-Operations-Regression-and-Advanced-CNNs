{
 "cells": [
  {
   "cell_type": "code",
   "execution_count": 42,
   "id": "069e89fa-8aa8-478c-8d9d-c100df43b3ab",
   "metadata": {},
   "outputs": [],
   "source": [
    "import numpy as np\n",
    "import matplotlib.pyplot as plt\n",
    "# Input and output vectors are given. \n",
    "inp = [ 0.7300, -1.0400, -1.2300,  1.6700, -0.6300,  1.4300, -0.8400,  0.1500,\n",
    "         -2.3000,  3.1000, -1.4500, -1.8100,  1.8700, -0.1100, -0.2800,  1.1200,\n",
    "         -0.4200,  2.8900]\n",
    "out = [ 1.43,  10.1,  8.3,  1.03,  10.21, -0.1,  8.92,  5.1,\n",
    "         -7.53, 34.72,  7.61,  3.2,  2.19,  7.15,  7.69, -0.18,\n",
    "          8.81, 23.1]"
   ]
  },
  {
   "cell_type": "code",
   "execution_count": 43,
   "id": "85cd7d2d-2354-4415-945e-706b1dafebc5",
   "metadata": {},
   "outputs": [],
   "source": [
    "# Define the polynomial model of degree 3, i.e., having 3 weights and 1 bias. \n",
    "# Also define the loss function\n",
    "def polynomial_model(x, weights, bias):\n",
    "    return weights[0] * x**3 + weights[1] * x**2 + weights[2] * x + bias\n",
    "\n",
    "def loss(y_predict, y_true):\n",
    "    return np.mean((y_predict - y_true)**2)"
   ]
  },
  {
   "cell_type": "code",
   "execution_count": 44,
   "id": "ff844417-2447-4cd8-92dc-92c608f3fb72",
   "metadata": {},
   "outputs": [],
   "source": [
    "# Define gradient manually wrt the exisiting parameters\n",
    "# Note: You need to define appropriate derivative functions to define the gradient\n",
    "# Use the defined gradient function to define the training function \n",
    "# Note: You cannot use autograd and optimizers\n",
    "# Run it on the input and output vector with appropriate learning rate and number of iterations\n",
    "# Plot the learned curve\n",
    "def gradient(x, y, weights, bias):\n",
    "    n = len(x)\n",
    "    grad_weights = np.zeros(3)\n",
    "    grad_bias = 0.0\n",
    "\n",
    "    for i in range(n):\n",
    "        pred = polynomial_model(x[i], weights, bias)\n",
    "        grad_weights[0] += 2 * (pred - y[i]) * x[i]**3\n",
    "        grad_weights[1] += 2 * (pred - y[i]) * x[i]**2\n",
    "        grad_weights[2] += 2 * (pred - y[i]) * x[i]\n",
    "        grad_weights += 2 * (pred - y[i])\n",
    "\n",
    "    grad_weights /= n\n",
    "    grad_bias /= n\n",
    "\n",
    "    return grad_weights, grad_bias"
   ]
  },
  {
   "cell_type": "code",
   "execution_count": 45,
   "id": "2268934b-6862-422d-9960-a9e30091edd0",
   "metadata": {},
   "outputs": [],
   "source": [
    "# Use PyTorch's autograd to automatically compute the gradients \n",
    "# Define the training function\n",
    "# Note: You cannot use optimizers.\n",
    "# Run it on the input and output vector with appropriate learning rate and number of iterations\n",
    "# Plot the learned curve\n",
    "def train(x, y, learning_rate, iterations):\n",
    "    weights = np.random.randn(3)\n",
    "    bias = np.random.randn()\n",
    "\n",
    "    losses = []\n",
    "    for _ in range(iterations):\n",
    "        y_pred = polynomial_model(x, weights, bias)\n",
    "        loss_val = loss(y_pred, y)\n",
    "        losses.append(loss)\n",
    "\n",
    "        grad_weights, grad_bias = gradient(x, y, weights, bias)\n",
    "        weights -= learning_rate * grad_weights\n",
    "        bias -= learning_rate * grad_bias\n",
    "\n",
    "    return weights, bias, losses"
   ]
  },
  {
   "cell_type": "code",
   "execution_count": 63,
   "id": "09b8d657-4aef-42a0-806e-0f3fa5c8d4a0",
   "metadata": {},
   "outputs": [],
   "source": [
    "# Use PyTorch's autograd to automatically compute the gradients \n",
    "# Use optimizers to abstract how parameters get updated\n",
    "# Define the training function\n",
    "# Run it on the input and output vector with appropriate learning rate, number of iterations, and SGD optimizer\n",
    "# Plot the learned curve\n",
    "inp = np.array([ 0.7300, -1.0400, -1.2300,  1.6700, -0.6300,  1.4300, -0.8400,  0.1500,\n",
    "         -2.3000,  3.1000, -1.4500, -1.8100,  1.8700, -0.1100, -0.2800,  1.1200,\n",
    "         -0.4200,  2.8900])\n",
    "out = np.array([ 1.43,  10.1,  8.3,  1.03,  10.21, -0.1,  8.92,  5.1,\n",
    "         -7.53, 34.72,  7.61,  3.2,  2.19,  7.15,  7.69, -0.18,\n",
    "          8.81, 23.1])\n",
    "\n",
    "\n",
    "learning_rate = 0.00001\n",
    "iterations = 100000\n",
    "final_weights, final_bias, losses = train(inp, out, learning_rate, iterations)"
   ]
  },
  {
   "cell_type": "code",
   "execution_count": 64,
   "id": "f961f2ff-d345-4ef6-98ab-047ed9f4411d",
   "metadata": {},
   "outputs": [
    {
     "data": {
      "text/plain": [
       "<function matplotlib.pyplot.show(close=None, block=None)>"
      ]
     },
     "execution_count": 64,
     "metadata": {},
     "output_type": "execute_result"
    },
    {
     "data": {
      "image/png": "[encoded data removed]",
      "text/plain": [
       "<Figure size 640x480 with 1 Axes>"
      ]
     },
     "metadata": {},
     "output_type": "display_data"
    }
   ],
   "source": [
    "# Split the dataset to training set (80%) and validation set (20%) randomly\n",
    "# Use PyTorch's autograd to automatically compute the gradients \n",
    "# Use optimizers to abstract how parameters get updated\n",
    "# Define the training function that tracks both training and validation losses\n",
    "# Run it on the input and output vector with appropriate learning rate, number of iterations, and SGD optimizer\n",
    "# Plot the learned curve\n",
    "x_range = np.linspace(min(inp), max(inp), 100)\n",
    "y_pred = polynomial_model(x_range, final_weights, final_bias)\n",
    "plt.scatter(inp, out, label='Data')\n",
    "plt.plot(x_range, y_pred, label='Learned Curve')\n",
    "plt.xlabel('Input')\n",
    "plt.ylabel('Output')\n",
    "plt.legend()\n",
    "plt.show"
   ]
  },
  {
   "cell_type": "code",
   "execution_count": null,
   "id": "b84754a8-592e-4ac1-9cb8-798758eab70b",
   "metadata": {},
   "outputs": [],
   "source": []
  },
  {
   "cell_type": "code",
   "execution_count": null,
   "id": "25d7939e-1324-426e-a3b6-59f97a7c0b24",
   "metadata": {},
   "outputs": [],
   "source": []
  }
 ],
 "metadata": {
  "kernelspec": {
   "display_name": "Python 3 (ipykernel)",
   "language": "python",
   "name": "python3"
  },
  "language_info": {
   "codemirror_mode": {
    "name": "ipython",
    "version": 3
   },
   "file_extension": ".py",
   "mimetype": "text/x-python",
   "name": "python",
   "nbconvert_exporter": "python",
   "pygments_lexer": "ipython3",
   "version": "3.11.2"
  }
 },
 "nbformat": 4,
 "nbformat_minor": 5
}
