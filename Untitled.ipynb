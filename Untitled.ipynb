{
 "cells": [
  {
   "cell_type": "code",
   "execution_count": 2,
   "id": "3fd6c880-1338-42bb-bcfe-ec3456049b1c",
   "metadata": {},
   "outputs": [
    {
     "name": "stdout",
     "output_type": "stream",
     "text": [
      "torch.Size([6, 3, 256, 256])\n"
     ]
    }
   ],
   "source": [
    "#Create a tensor t1 with random values that represents a batch of six RGB images of size 256 * 256.\n",
    "import torch\n",
    "\n",
    "batch_size = 6\n",
    "image_channels = 3 # RGB\n",
    "height = 256\n",
    "width = 256\n",
    "\n",
    "t1 = torch.rand(batch_size, image_channels, height, width)\n",
    "\n",
    "print(t1.shape)"
   ]
  },
  {
   "cell_type": "code",
   "execution_count": 3,
   "id": "b2aab9a0-0f23-4907-b8ca-966162e38fd8",
   "metadata": {},
   "outputs": [
    {
     "name": "stdout",
     "output_type": "stream",
     "text": [
      "torch.Size([6, 128, 128])\n"
     ]
    }
   ],
   "source": [
    "#Out of the created tensor t1, extract all six images' Green channel, restricted to the first 128 * 128 pixels.\n",
    "#What would be the size of this tensor?\n",
    "green = t1[:, 1, :128, :128] # : means all images, 1 meas the green channel, : :128 means first 128 elements along the height and width dimension (rows and columns)\n",
    "\n",
    "print(green.shape)"
   ]
  },
  {
   "cell_type": "code",
   "execution_count": 6,
   "id": "ff48f66b-d5b8-46b5-ae4d-c3b6fd14d7fa",
   "metadata": {},
   "outputs": [
    {
     "ename": "NameError",
     "evalue": "name 'single' is not defined",
     "output_type": "error",
     "traceback": [
      "\u001b[1;31m---------------------------------------------------------------------------\u001b[0m",
      "\u001b[1;31mNameError\u001b[0m                                 Traceback (most recent call last)",
      "Cell \u001b[1;32mIn[6], line 6\u001b[0m\n\u001b[0;32m      1\u001b[0m \u001b[38;5;66;03m#In t1, compute the average of all three channels, i.e., change each image to a single channel image, by averaging\u001b[39;00m\n\u001b[0;32m      2\u001b[0m \u001b[38;5;66;03m# on all three channels in each pixel.\u001b[39;00m\n\u001b[0;32m      3\u001b[0m \u001b[38;5;66;03m#What is the size of this new tensor?\u001b[39;00m\n\u001b[0;32m      4\u001b[0m average \u001b[38;5;241m=\u001b[39m t1\u001b[38;5;241m.\u001b[39mmean(dim\u001b[38;5;241m=\u001b[39m\u001b[38;5;241m1\u001b[39m)\n\u001b[1;32m----> 6\u001b[0m \u001b[38;5;28mprint\u001b[39m(\u001b[43msingle\u001b[49m\u001b[38;5;241m.\u001b[39mshape)\n",
      "\u001b[1;31mNameError\u001b[0m: name 'single' is not defined"
     ]
    }
   ],
   "source": [
    "#In t1, compute the average of all three channels, i.e., change each image to a single channel image, by averaging\n",
    "# on all three channels in each pixel.\n",
    "#What is the size of this new tensor?\n",
    "average = t1.mean(dim=1)\n",
    "\n",
    "print(average.shape)"
   ]
  },
  {
   "cell_type": "code",
   "execution_count": 5,
   "id": "a71ee74c-6e5d-482c-97e9-d0ca2e3d858a",
   "metadata": {},
   "outputs": [
    {
     "name": "stdout",
     "output_type": "stream",
     "text": [
      "torch.Size([6, 128, 128])\n"
     ]
    }
   ],
   "source": [
    "#Convert the tensor to contain 16 bit float values. And check its type.\n",
    "green = t1[:, 1, :128, :128] # : means all images, 1 meas the green channel, : :128 means first 128 elements along the height and width dimension (rows and columns)\n",
    "\n",
    "print(green.shape)"
   ]
  },
  {
   "cell_type": "code",
   "execution_count": null,
   "id": "da451b88-0148-47a3-a0f8-edc1cbcd8d27",
   "metadata": {},
   "outputs": [],
   "source": []
  }
 ],
 "metadata": {
  "kernelspec": {
   "display_name": "Python 3 (ipykernel)",
   "language": "python",
   "name": "python3"
  },
  "language_info": {
   "codemirror_mode": {
    "name": "ipython",
    "version": 3
   },
   "file_extension": ".py",
   "mimetype": "text/x-python",
   "name": "python",
   "nbconvert_exporter": "python",
   "pygments_lexer": "ipython3",
   "version": "3.11.4"
  }
 },
 "nbformat": 4,
 "nbformat_minor": 5
}
