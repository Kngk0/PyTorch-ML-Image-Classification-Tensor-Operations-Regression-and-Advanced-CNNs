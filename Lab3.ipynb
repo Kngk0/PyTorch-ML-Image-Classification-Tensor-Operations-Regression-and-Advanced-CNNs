{
 "cells": [
  {
   "cell_type": "code",
   "execution_count": 4,
   "id": "b64bb2c2-534a-4c17-86ab-57ea31e4346e",
   "metadata": {},
   "outputs": [
    {
     "name": "stdout",
     "output_type": "stream",
     "text": [
      "torch.Size([6, 3, 256, 256])\n"
     ]
    }
   ],
   "source": [
    "#Create a tensor t1 with random values that represents a batch of six RGB images of size 256 * 256.\n",
    "import torch\n",
    "\n",
    "batch_size = 6\n",
    "image_channels = 3 # RGB\n",
    "height = 256\n",
    "width = 256\n",
    "\n",
    "t1 = torch.rand(batch_size, image_channels, height, width)\n",
    "\n",
    "print(t1.shape)"
   ]
  },
  {
   "cell_type": "code",
   "execution_count": 16,
   "id": "17c5b8b9-5fb3-443c-b13a-dcaf2eab5f95",
   "metadata": {},
   "outputs": [
    {
     "name": "stdout",
     "output_type": "stream",
     "text": [
      "torch.float16\n"
     ]
    }
   ],
   "source": [
    "#Convert the tensor to contain 16 bit float values. And check its type.\n",
    "tensor = average.to(torch.float16)\n",
    "print(tensor.dtype)"
   ]
  },
  {
   "cell_type": "code",
   "execution_count": 17,
   "id": "f65bd9f3-20e1-4d97-a06f-f5b12b659313",
   "metadata": {},
   "outputs": [
    {
     "ename": "NameError",
     "evalue": "name 'single' is not defined",
     "output_type": "error",
     "traceback": [
      "\u001b[1;31m---------------------------------------------------------------------------\u001b[0m",
      "\u001b[1;31mNameError\u001b[0m                                 Traceback (most recent call last)",
      "Cell \u001b[1;32mIn[17], line 6\u001b[0m\n\u001b[0;32m      1\u001b[0m \u001b[38;5;66;03m#In t1, compute the average of all three channels, i.e., change each image to a single channel image, by averaging\u001b[39;00m\n\u001b[0;32m      2\u001b[0m \u001b[38;5;66;03m# on all three channels in each pixel.\u001b[39;00m\n\u001b[0;32m      3\u001b[0m \u001b[38;5;66;03m#What is the size of this new tensor?\\\u001b[39;00m\n\u001b[0;32m      5\u001b[0m average \u001b[38;5;241m=\u001b[39m t1\u001b[38;5;241m.\u001b[39mmean(dim\u001b[38;5;241m=\u001b[39m\u001b[38;5;241m1\u001b[39m)\n\u001b[1;32m----> 6\u001b[0m \u001b[38;5;28mprint\u001b[39m(\u001b[43msingle\u001b[49m\u001b[38;5;241m.\u001b[39mshape)\n",
      "\u001b[1;31mNameError\u001b[0m: name 'single' is not defined"
     ]
    }
   ],
   "source": [
    "#In t1, compute the average of all three channels, i.e., change each image to a single channel image, by averaging\n",
    "# on all three channels in each pixel.\n",
    "#What is the size of this new tensor?\\\n",
    "\n",
    "average = t1.mean(dim=1)\n",
    "print(single.shape)"
   ]
  },
  {
   "cell_type": "code",
   "execution_count": 13,
   "id": "25b3f693-198c-413c-8030-615a8b590320",
   "metadata": {},
   "outputs": [
    {
     "name": "stdout",
     "output_type": "stream",
     "text": [
      "torch.Size([6, 128, 128])\n"
     ]
    }
   ],
   "source": [
    "#Out of the created tensor t1, extract all six images' Green channel, restricted to the first 128 * 128 pixels.\n",
    "#What would be the size of this tensor?\n",
    "green = t1[:, 1, :128, :128] # : means all images, 1 meas the green channel, : :128 means first 128 elements along the height and width dimension (rows and columns)\n",
    "\n",
    "print(green.shape)"
   ]
  },
  {
   "cell_type": "code",
   "execution_count": null,
   "id": "a052b9ce-2da2-44a5-a7d7-d716159003eb",
   "metadata": {},
   "outputs": [],
   "source": [
    "#Assume that tensor t2 is of size n * m. What would be its stride?\n",
    "#The stride for tensor t2 will be (m,1).\n",
    "\n",
    "#Assume that tensor t3 is of size p * n * m. What would be its stride?\n",
    "#The stride for tensor t3 will be (mn,m,1).\n",
    "\n",
    "\n",
    "#Assume that tensor t4 is of size q * p * n * m. What would be its stride?\n",
    "#The stride for tensor 4 will be (mn, mp, m, 1).\n",
    "\n",
    "\n",
    "#Can you generalize it? That is, assuming some tensor t has size n_1 * n_2 * ... * n_d, what would be its stride?\n",
    "#The stride will be (n_d,1)."
   ]
  }
 ],
 "metadata": {
  "kernelspec": {
   "display_name": "Python 3 (ipykernel)",
   "language": "python",
   "name": "python3"
  },
  "language_info": {
   "codemirror_mode": {
    "name": "ipython",
    "version": 3
   },
   "file_extension": ".py",
   "mimetype": "text/x-python",
   "name": "python",
   "nbconvert_exporter": "python",
   "pygments_lexer": "ipython3",
   "version": "3.11.4"
  }
 },
 "nbformat": 4,
 "nbformat_minor": 5
}
