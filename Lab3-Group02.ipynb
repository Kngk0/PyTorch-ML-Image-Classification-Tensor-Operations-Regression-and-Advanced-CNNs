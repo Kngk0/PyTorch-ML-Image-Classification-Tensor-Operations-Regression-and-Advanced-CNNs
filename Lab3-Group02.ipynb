{
 "cells": [
  {
   "cell_type": "code",
   "execution_count": 13,
   "id": "b64bb2c2-534a-4c17-86ab-57ea31e4346e",
   "metadata": {},
   "outputs": [
    {
     "name": "stdout",
     "output_type": "stream",
     "text": [
      "torch.Size([6, 3, 256, 256])\n"
     ]
    }
   ],
   "source": [
    "#Create a tensor t1 with random values that represents a batch of six RGB images of size 256 * 256.\n",
    "import torch\n",
    "\n",
    "batch_size = 6\n",
    "image_channels = 3 # RGB\n",
    "height = 256\n",
    "width = 256\n",
    "\n",
    "t1 = torch.rand(batch_size, image_channels, height, width)\n",
    "\n",
    "print(t1.shape)"
   ]
  },
  {
   "cell_type": "code",
   "execution_count": 14,
   "id": "25b3f693-198c-413c-8030-615a8b590320",
   "metadata": {},
   "outputs": [
    {
     "name": "stdout",
     "output_type": "stream",
     "text": [
      "torch.Size([6, 128, 128])\n"
     ]
    }
   ],
   "source": [
    "#Out of the created tensor t1, extract all six images' Green channel, restricted to the first 128 * 128 pixels.\n",
    "#What would be the size of this tensor?\n",
    "green = t1[:, 1, :128, :128] # : means all images, 1 meas the green channel, : :128 means first 128 elements along the height and width dimension (rows and columns)\n",
    "\n",
    "print(green.shape)"
   ]
  },
  {
   "cell_type": "code",
   "execution_count": 22,
   "id": "0bd7f867-f80d-4a7a-94ae-2a045eb85f3a",
   "metadata": {},
   "outputs": [
    {
     "name": "stdout",
     "output_type": "stream",
     "text": [
      "torch.Size([6, 256, 256])\n"
     ]
    }
   ],
   "source": [
    "#In t1, compute the average of all three channels, i.e., change each image to a single channel image, by averaging\n",
    "# on all three channels in each pixel.\n",
    "#What is the size of this new tensor?\n",
    "average = t1.mean(dim=1)\n",
    "\n",
    "print(average.shape)"
   ]
  },
  {
   "cell_type": "code",
   "execution_count": 24,
   "id": "7969a5c9-4d40-4cf3-bb6e-3342a39f604d",
   "metadata": {},
   "outputs": [
    {
     "name": "stdout",
     "output_type": "stream",
     "text": [
      "torch.float16\n"
     ]
    }
   ],
   "source": [
    "#Convert the tensor to contain 16 bit float values. And check its type.\n",
    "tensor = average.to(torch.float16)\n",
    "print(tensor.dtype)"
   ]
  },
  {
   "cell_type": "code",
   "execution_count": 17,
   "id": "a052b9ce-2da2-44a5-a7d7-d716159003eb",
   "metadata": {},
   "outputs": [],
   "source": [
    "#Assume that tensor t2 is of size n * m. What would be its stride?\n",
    "#The stride for tensor t2 will be (m,1).\n",
    "\n",
    "#Assume that tensor t3 is of size p * n * m. What would be its stride?\n",
    "#The stride for tensor t3 will be (mn,m,1).\n",
    "\n",
    "\n",
    "#Assume that tensor t4 is of size q * p * n * m. What would be its stride?\n",
    "#The stride for tensor 4 will be (mn, mp, m, 1).\n",
    "\n",
    "\n",
    "#Can you generalize it? That is, assuming some tensor t has size n_1 * n_2 * ... * n_d, what would be its stride?\n",
    "#The stride will be (n_d,1)."
   ]
  },
  {
   "cell_type": "code",
   "execution_count": null,
   "id": "98ff05a9-090c-41fc-89fd-4e92b2eae6bc",
   "metadata": {},
   "outputs": [],
   "source": []
  }
 ],
 "metadata": {
  "kernelspec": {
   "display_name": "Python 3 (ipykernel)",
   "language": "python",
   "name": "python3"
  },
  "language_info": {
   "codemirror_mode": {
    "name": "ipython",
    "version": 3
   },
   "file_extension": ".py",
   "mimetype": "text/x-python",
   "name": "python",
   "nbconvert_exporter": "python",
   "pygments_lexer": "ipython3",
   "version": "3.11.4"
  }
 },
 "nbformat": 4,
 "nbformat_minor": 5
}
