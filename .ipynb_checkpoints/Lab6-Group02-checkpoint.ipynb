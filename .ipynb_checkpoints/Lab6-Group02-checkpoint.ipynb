{
 "cells": [
  {
   "cell_type": "code",
   "execution_count": null,
   "id": "4c9f8542-5d29-49b9-881c-1becc1bb476a",
   "metadata": {},
   "outputs": [],
   "source": [
    "#Download CIFAR 10 dataset for training and validation purposes and apply the following changes on each image:\n",
    "# 1) make it a tensor\n",
    "# 2) normalize it based on the mean and standard deviation among all pixels in each channel (RGB).\n",
    "#Print the size of training and validation datasets\n",
    "#Plot the last training image"
   ]
  },
  {
   "cell_type": "code",
   "execution_count": null,
   "id": "f2d624f5-17cb-473e-8f5c-311327bd2c16",
   "metadata": {},
   "outputs": [],
   "source": [
    "#We want to make a tertiary classifier that distinguishes between deers, dogs, and horses, labeled as 4, 5, and 7, resp.\n",
    "#Create the subset training and validation datasets for this purpose.\n",
    "#Print the size of these datasets.\n",
    "#Plot the last training image"
   ]
  },
  {
   "cell_type": "code",
   "execution_count": null,
   "id": "17fdd55d-4b4e-4019-9dbf-78b8a6f3d807",
   "metadata": {},
   "outputs": [],
   "source": [
    "#Create a NN consisting of \n",
    "# 1) a linear layer that receives appropriate number of input features and outputs 1024 features, followed by hyperbolic\n",
    "#    tangent as the activation function,\n",
    "# 2) a linear layer that receives appropriate number of input features and outputs 256 features, followed by hyperbolic\n",
    "#    tangent as the activation function,\n",
    "# 3) the final linear layer with appropriate input and output number of features, followed by logarithm of softmax\n",
    "#Print total number of exisiting parameters in the NN with respect to which gradient of loss must be computed.\n",
    "import torch.nn as nn\n",
    "\n",
    "# Define the neural network\n",
    "n_out = 3 # number of output classes\n",
    "model = nn.Sequential(\n",
    "    nn.Linear(3 * 32 * 32, 1024),\n",
    "    nn.Tanh(),\n",
    "    nn.Linear(1024, 256),\n",
    "    nn.Tanh(),\n",
    "    nn.Linear(256, 3)\n",
    "    nn.LogSoftmax(dim=1)\n",
    ")\n",
    "\n",
    "total_params = sum(p.nume1() for p in model.parameters())\n",
    "print(\"Total number of existing parameters in the NN:\", total_params)"
   ]
  },
  {
   "cell_type": "code",
   "execution_count": 1,
   "id": "379ac1ff-6929-47ba-baf6-c2391338a355",
   "metadata": {},
   "outputs": [],
   "source": [
    "#Our training functionality is supposed to compute gradient on batches of training data, randlomy selected each time.\n",
    "#To this end, create a training data loader with batch size 32 that randomizes access to each batch.\n",
    "#Also, create a validation data loader with the same batch size that does not randomize access to each batch (no need!)\n",
    "#Print the number of batches in training and validation data loaders\n",
    "#Print the size of the last batch in each of the training and validation loaders (they are not necessarily 32)\n",
    "batch_size = 32\n",
    "train_loader = torch.utils.data.DataLoader(train_subset, batch_size=batch_size, shuffle=True)\n",
    "val_loader = torch.utils.data.DataLoader(val_subset, batch_size=batch_size, shuffle=False)\n",
    "\n",
    "print(\"Number of batches in training loader:\", len(train_loader))\n",
    "print(\"Number of batches in validation loader:\", len(val_loader))\n",
    "\n",
    "total_samples = len(train_loader.dataset)\n",
    "leftover_samples = total_samples % batch_size\n",
    "last_train_batch = train_loader.dataset[-leftover_samples:]\n",
    "\n",
    "total_samples1 = len(val_loader.dataset)\n",
    "leftover_samples1 = total_samples1 % batch_size\n",
    "last_val_batch = val_loader.dataset[-leftover_samples1:]\n",
    "\n",
    "print(\"Size of last batch in the training loader:\", len(last_train_batch))\n",
    "print(\"Size of last batch in the validation loader:\", len(last_train_batch))"
   ]
  },
  {
   "cell_type": "code",
   "execution_count": null,
   "id": "687d3810-855a-4b0e-9a2a-f316981a97ce",
   "metadata": {},
   "outputs": [],
   "source": [
    "#Define your training function that receives the data loaders, model, loss function, optimizer, and number of epochs.\n",
    "#In each epoch, you should go through each training data batch, and:\n",
    "# 1) compute the output batch, and accordingly the loss\n",
    "# 2) compute the gradient of loss wrt parameters, and update the parameters\n",
    "#After covering all epochs, your training function must report\n",
    "# 1) the training accuracy, and\n",
    "# 2) the validation accuracy\n",
    "def train(train_loader, val_loader, model, loss_fun, optimizer, epochs):\n",
    "    for epoch in range(epochs):\n",
    "        model.train() # Set the model to training mode\n",
    "        correct_train = 0\n",
    "        for images, labels in train_loader:\n",
    "            optimizer.zero_grad() # Clear previous gradient calculations\n",
    "            outputs = model(images.view(images.size(0),-1)) # Forward pass\n",
    "            loss = loss_fun(outputs, labels) # Calculate loss\n",
    "            loss.backward()  # Backpropagation\n",
    "            optimizer.step() # Update parameters based on gradients\n",
    "            predicted = outputs.argmax(dim=1) # Get predicted classes\n",
    "            correct_train += (predicted == labels).sum().item() # Count correct predictions\n",
    "\n",
    "        model.eval() # Set the model to evaluation mode\n",
    "        correct_val = 0\n",
    "        with torch.no_grad():\n",
    "            for images, labels in val_loader:\n",
    "                outputs = model(images.view(images.size(0), -1)) # Forward pass\n",
    "                predicted = outputs.argmax(dim=1) # Get predicted classes\n",
    "                correct_val += (predicted == labels).sum().item() # Count correct predictions\n",
    "                \n",
    "        train_accuracy = correct_train / len(train_loader.dataset)\n",
    "        val_accuracy = correct_val / len(val_loader.dataset)\n",
    "        print(f\"Epoch [{epoch+1}/{epochs}] - Train accuracy: {train_accuracy:.4f}, Validation accuracy: {val_accuracy:.4f}\")      "
   ]
  },
  {
   "cell_type": "code",
   "execution_count": null,
   "id": "ab6a40a7-729a-4db5-9170-b7a90ba28189",
   "metadata": {},
   "outputs": [],
   "source": [
    "#Call the training function on the created data loaders, the created NN, negative log likelihood loss function, \n",
    "# stochastic gradient descent optimizer, and 100 epochs.\n",
    "#Is the model overfit for this problem? (Yes/No) Why?"
   ]
  }
 ],
 "metadata": {
  "kernelspec": {
   "display_name": "Python 3 (ipykernel)",
   "language": "python",
   "name": "python3"
  },
  "language_info": {
   "codemirror_mode": {
    "name": "ipython",
    "version": 3
   },
   "file_extension": ".py",
   "mimetype": "text/x-python",
   "name": "python",
   "nbconvert_exporter": "python",
   "pygments_lexer": "ipython3",
   "version": "3.11.2"
  }
 },
 "nbformat": 4,
 "nbformat_minor": 5
}
